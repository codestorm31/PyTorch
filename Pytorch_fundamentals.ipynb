{
  "nbformat": 4,
  "nbformat_minor": 0,
  "metadata": {
    "colab": {
      "provenance": [],
      "gpuType": "T4"
    },
    "kernelspec": {
      "name": "python3",
      "display_name": "Python 3"
    },
    "language_info": {
      "name": "python"
    },
    "accelerator": "GPU"
  },
  "cells": [
    {
      "cell_type": "markdown",
      "source": [
        "## 00. PyTorch Fundamentals"
      ],
      "metadata": {
        "id": "tS3K6foF7iOn"
      }
    },
    {
      "cell_type": "code",
      "source": [
        "import torch\n",
        "import pandas as pd\n",
        "import matplotlib.pyplot as plt\n",
        "import numpy as np\n",
        "print(torch.__version__)"
      ],
      "metadata": {
        "colab": {
          "base_uri": "https://localhost:8080/"
        },
        "id": "svF1PAUi7fOO",
        "outputId": "f1a44017-9592-49d8-92e2-713088ac092f"
      },
      "execution_count": null,
      "outputs": [
        {
          "output_type": "stream",
          "name": "stdout",
          "text": [
            "2.3.1+cu121\n"
          ]
        }
      ]
    },
    {
      "cell_type": "markdown",
      "source": [
        "## Introduction to Tensors\n",
        "### Creating Tensors\n",
        "\n",
        "Pytorch tensors are created using \"torch.Tensor()\""
      ],
      "metadata": {
        "id": "8K95cx0l8LvJ"
      }
    },
    {
      "cell_type": "code",
      "source": [
        "#scalar\n",
        "scalar=torch.tensor(7)\n",
        "scalar"
      ],
      "metadata": {
        "colab": {
          "base_uri": "https://localhost:8080/"
        },
        "id": "V6GqUquW8_Ry",
        "outputId": "707ae2dc-145f-4c07-f519-4e91412d86e9"
      },
      "execution_count": null,
      "outputs": [
        {
          "output_type": "execute_result",
          "data": {
            "text/plain": [
              "tensor(7)"
            ]
          },
          "metadata": {},
          "execution_count": 2
        }
      ]
    },
    {
      "cell_type": "code",
      "source": [
        "scalar.item()"
      ],
      "metadata": {
        "colab": {
          "base_uri": "https://localhost:8080/"
        },
        "id": "Lfsglh929NnK",
        "outputId": "28cde589-49f9-4049-fec0-a36bbb78d793"
      },
      "execution_count": null,
      "outputs": [
        {
          "output_type": "execute_result",
          "data": {
            "text/plain": [
              "7"
            ]
          },
          "metadata": {},
          "execution_count": 3
        }
      ]
    },
    {
      "cell_type": "code",
      "source": [
        "#Vector\n",
        "vector=torch.Tensor([7,7])\n",
        "vector"
      ],
      "metadata": {
        "colab": {
          "base_uri": "https://localhost:8080/"
        },
        "id": "pZYqjV2892f5",
        "outputId": "820b0707-06b5-42b3-8711-ae0094404024"
      },
      "execution_count": null,
      "outputs": [
        {
          "output_type": "execute_result",
          "data": {
            "text/plain": [
              "tensor([7., 7.])"
            ]
          },
          "metadata": {},
          "execution_count": 4
        }
      ]
    },
    {
      "cell_type": "code",
      "source": [
        "vector.ndim"
      ],
      "metadata": {
        "colab": {
          "base_uri": "https://localhost:8080/"
        },
        "id": "ypPXevtp-bct",
        "outputId": "7fc1eee3-5df9-49f7-8dc6-78e8568e1e28"
      },
      "execution_count": null,
      "outputs": [
        {
          "output_type": "execute_result",
          "data": {
            "text/plain": [
              "1"
            ]
          },
          "metadata": {},
          "execution_count": 5
        }
      ]
    },
    {
      "cell_type": "code",
      "source": [
        "vector.shape"
      ],
      "metadata": {
        "colab": {
          "base_uri": "https://localhost:8080/"
        },
        "id": "hAu8dSbF-eKl",
        "outputId": "93e5cec3-73a4-43b1-96ee-bd2036dc8913"
      },
      "execution_count": null,
      "outputs": [
        {
          "output_type": "execute_result",
          "data": {
            "text/plain": [
              "torch.Size([2])"
            ]
          },
          "metadata": {},
          "execution_count": 6
        }
      ]
    },
    {
      "cell_type": "code",
      "source": [
        "#MATRIX\n",
        "MATRIX=torch.tensor([[7,8],\n",
        "                     [9,10]])\n",
        "MATRIX"
      ],
      "metadata": {
        "colab": {
          "base_uri": "https://localhost:8080/"
        },
        "id": "bDigBMbe-iP8",
        "outputId": "bdcf1e77-2b19-4ea6-872b-b94b18e8927c"
      },
      "execution_count": null,
      "outputs": [
        {
          "output_type": "execute_result",
          "data": {
            "text/plain": [
              "tensor([[ 7,  8],\n",
              "        [ 9, 10]])"
            ]
          },
          "metadata": {},
          "execution_count": 7
        }
      ]
    },
    {
      "cell_type": "code",
      "source": [
        "MATRIX.ndim"
      ],
      "metadata": {
        "colab": {
          "base_uri": "https://localhost:8080/"
        },
        "id": "7e4gQn34_JoD",
        "outputId": "48122d59-6b12-4a34-fb61-f674e4e66599"
      },
      "execution_count": null,
      "outputs": [
        {
          "output_type": "execute_result",
          "data": {
            "text/plain": [
              "2"
            ]
          },
          "metadata": {},
          "execution_count": 8
        }
      ]
    },
    {
      "cell_type": "code",
      "source": [
        "MATRIX[1][1]"
      ],
      "metadata": {
        "colab": {
          "base_uri": "https://localhost:8080/"
        },
        "id": "u6WwEnI4_PQs",
        "outputId": "0001f083-3226-4c90-ab1b-00eaf1a8b79b"
      },
      "execution_count": null,
      "outputs": [
        {
          "output_type": "execute_result",
          "data": {
            "text/plain": [
              "tensor(10)"
            ]
          },
          "metadata": {},
          "execution_count": 9
        }
      ]
    },
    {
      "cell_type": "code",
      "source": [
        "MATRIX.shape"
      ],
      "metadata": {
        "colab": {
          "base_uri": "https://localhost:8080/"
        },
        "id": "dezrFmKn_cPF",
        "outputId": "92b85822-dc7c-4c3c-9003-888db239ef96"
      },
      "execution_count": null,
      "outputs": [
        {
          "output_type": "execute_result",
          "data": {
            "text/plain": [
              "torch.Size([2, 2])"
            ]
          },
          "metadata": {},
          "execution_count": 10
        }
      ]
    },
    {
      "cell_type": "markdown",
      "source": [
        "###Random Tensors"
      ],
      "metadata": {
        "id": "5GM5jY0k_r4Y"
      }
    },
    {
      "cell_type": "code",
      "source": [
        "#Create a random Tensor of size (3, 4)\n",
        "random_tensor=torch.rand(3,4)\n",
        "random_tensor"
      ],
      "metadata": {
        "colab": {
          "base_uri": "https://localhost:8080/"
        },
        "id": "Q3r0NNcOBeWO",
        "outputId": "1b10bac6-470b-4779-fcba-0e6939686215"
      },
      "execution_count": null,
      "outputs": [
        {
          "output_type": "execute_result",
          "data": {
            "text/plain": [
              "tensor([[0.6565, 0.3591, 0.6632, 0.5789],\n",
              "        [0.3623, 0.8643, 0.9651, 0.5608],\n",
              "        [0.1294, 0.8362, 0.9711, 0.8832]])"
            ]
          },
          "metadata": {},
          "execution_count": 11
        }
      ]
    },
    {
      "cell_type": "code",
      "source": [
        "random_tensor.ndim"
      ],
      "metadata": {
        "colab": {
          "base_uri": "https://localhost:8080/"
        },
        "id": "48CCVWg8CJkj",
        "outputId": "581219dc-b8f9-4f95-a0cf-7af874cd3126"
      },
      "execution_count": null,
      "outputs": [
        {
          "output_type": "execute_result",
          "data": {
            "text/plain": [
              "2"
            ]
          },
          "metadata": {},
          "execution_count": 12
        }
      ]
    },
    {
      "cell_type": "code",
      "source": [
        "#Create a random tensor with similar shape to an image tensor\n",
        "random_image_size_tensor=torch.rand(size=(224,224,3)) # height, width, colour channels\n",
        "random_image_size_tensor, random_image_size_tensor.ndim"
      ],
      "metadata": {
        "colab": {
          "base_uri": "https://localhost:8080/"
        },
        "id": "wbdh06CpCJ6E",
        "outputId": "e6ab9184-5397-4c3f-f75b-39863bc7f131"
      },
      "execution_count": null,
      "outputs": [
        {
          "output_type": "execute_result",
          "data": {
            "text/plain": [
              "(tensor([[[0.6858, 0.2718, 0.3772],\n",
              "          [0.9766, 0.3186, 0.4617],\n",
              "          [0.4075, 0.9984, 0.9313],\n",
              "          ...,\n",
              "          [0.6798, 0.3554, 0.3534],\n",
              "          [0.9962, 0.6305, 0.7315],\n",
              "          [0.1204, 0.1045, 0.3291]],\n",
              " \n",
              "         [[0.6230, 0.9678, 0.5919],\n",
              "          [0.5941, 0.2966, 0.2274],\n",
              "          [0.0081, 0.2236, 0.4829],\n",
              "          ...,\n",
              "          [0.5258, 0.5799, 0.5490],\n",
              "          [0.8739, 0.5919, 0.6042],\n",
              "          [0.1021, 0.7801, 0.1475]],\n",
              " \n",
              "         [[0.9727, 0.4511, 0.2384],\n",
              "          [0.5639, 0.0890, 0.6128],\n",
              "          [0.1227, 0.9832, 0.3700],\n",
              "          ...,\n",
              "          [0.7303, 0.8988, 0.9639],\n",
              "          [0.9219, 0.0893, 0.9430],\n",
              "          [0.4468, 0.0111, 0.1518]],\n",
              " \n",
              "         ...,\n",
              " \n",
              "         [[0.8985, 0.1797, 0.1397],\n",
              "          [0.8017, 0.7720, 0.4755],\n",
              "          [0.7818, 0.5552, 0.1017],\n",
              "          ...,\n",
              "          [0.0709, 0.7284, 0.7217],\n",
              "          [0.8982, 0.6390, 0.4536],\n",
              "          [0.5708, 0.1456, 0.2728]],\n",
              " \n",
              "         [[0.9824, 0.3403, 0.4020],\n",
              "          [0.1474, 0.0431, 0.7246],\n",
              "          [0.5102, 0.0190, 0.1613],\n",
              "          ...,\n",
              "          [0.7999, 0.7270, 0.7452],\n",
              "          [0.6371, 0.3763, 0.8367],\n",
              "          [0.9270, 0.9432, 0.8606]],\n",
              " \n",
              "         [[0.6821, 0.3405, 0.8800],\n",
              "          [0.3696, 0.2202, 0.6538],\n",
              "          [0.9380, 0.9317, 0.4252],\n",
              "          ...,\n",
              "          [0.6472, 0.3763, 0.9904],\n",
              "          [0.3570, 0.5760, 0.7166],\n",
              "          [0.3110, 0.2576, 0.3290]]]),\n",
              " 3)"
            ]
          },
          "metadata": {},
          "execution_count": 13
        }
      ]
    },
    {
      "cell_type": "markdown",
      "source": [
        "##Zeros & Ones"
      ],
      "metadata": {
        "id": "mpDhVm60CKGc"
      }
    },
    {
      "cell_type": "code",
      "source": [
        "#Create a tensor of all zeros\n",
        "zeros=torch.zeros(size=(3,4))\n",
        "zeros"
      ],
      "metadata": {
        "colab": {
          "base_uri": "https://localhost:8080/"
        },
        "id": "KnhOm_zPCKNK",
        "outputId": "cd6c2445-5cff-4d27-b65c-18613ba628ce"
      },
      "execution_count": null,
      "outputs": [
        {
          "output_type": "execute_result",
          "data": {
            "text/plain": [
              "tensor([[0., 0., 0., 0.],\n",
              "        [0., 0., 0., 0.],\n",
              "        [0., 0., 0., 0.]])"
            ]
          },
          "metadata": {},
          "execution_count": 14
        }
      ]
    },
    {
      "cell_type": "code",
      "source": [
        "# Create a tensor of all ones\n",
        "ones=torch.ones(size=(3,4))\n",
        "ones"
      ],
      "metadata": {
        "colab": {
          "base_uri": "https://localhost:8080/"
        },
        "id": "jXxhBc8XCKTJ",
        "outputId": "6fdb7b3a-de9c-49dc-ab72-39b3a7d8545f"
      },
      "execution_count": null,
      "outputs": [
        {
          "output_type": "execute_result",
          "data": {
            "text/plain": [
              "tensor([[1., 1., 1., 1.],\n",
              "        [1., 1., 1., 1.],\n",
              "        [1., 1., 1., 1.]])"
            ]
          },
          "metadata": {},
          "execution_count": 15
        }
      ]
    },
    {
      "cell_type": "code",
      "source": [
        "ones.dtype"
      ],
      "metadata": {
        "colab": {
          "base_uri": "https://localhost:8080/"
        },
        "id": "Vo8nGHVRCKYr",
        "outputId": "c19da481-c74e-4caa-e203-8c1b18dd492c"
      },
      "execution_count": null,
      "outputs": [
        {
          "output_type": "execute_result",
          "data": {
            "text/plain": [
              "torch.float32"
            ]
          },
          "metadata": {},
          "execution_count": 16
        }
      ]
    },
    {
      "cell_type": "markdown",
      "source": [
        "### Creating a range of Tensors & tensor-like"
      ],
      "metadata": {
        "id": "QE1W2eM-D4hB"
      }
    },
    {
      "cell_type": "code",
      "source": [
        "#Use torch.raneg()\n",
        "one_to_ten=torch.arange(start=1, end=1000, step=77)\n",
        "one_to_ten"
      ],
      "metadata": {
        "colab": {
          "base_uri": "https://localhost:8080/"
        },
        "id": "1KTr3zgRD4nK",
        "outputId": "1e19dc31-fd39-4657-a7b3-56a47b750f75"
      },
      "execution_count": null,
      "outputs": [
        {
          "output_type": "execute_result",
          "data": {
            "text/plain": [
              "tensor([  1,  78, 155, 232, 309, 386, 463, 540, 617, 694, 771, 848, 925])"
            ]
          },
          "metadata": {},
          "execution_count": 17
        }
      ]
    },
    {
      "cell_type": "code",
      "source": [
        "#Creating Tensors like\n",
        "ten_zeros=torch.zeros_like(input=one_to_ten)\n",
        "ten_zeros"
      ],
      "metadata": {
        "colab": {
          "base_uri": "https://localhost:8080/"
        },
        "id": "VQMlP_zBD4t6",
        "outputId": "4307bff2-ee38-4cdf-8ff1-a22e21912998"
      },
      "execution_count": null,
      "outputs": [
        {
          "output_type": "execute_result",
          "data": {
            "text/plain": [
              "tensor([0, 0, 0, 0, 0, 0, 0, 0, 0, 0, 0, 0, 0])"
            ]
          },
          "metadata": {},
          "execution_count": 18
        }
      ]
    },
    {
      "cell_type": "markdown",
      "source": [
        "###Tensor Datatypes"
      ],
      "metadata": {
        "id": "dcydE9SLD40r"
      }
    },
    {
      "cell_type": "code",
      "source": [
        "#Float 32 tensor\n",
        "float_32_tensor=torch.tensor([3.0, 6.0, 9.0],\n",
        "                             dtype=None, #datatype of sensor\n",
        "                             device=None, # What device your tensor is on\n",
        "                             requires_grad=False) # Whether or not to track gradients with this tensor\n",
        "float_32_tensor"
      ],
      "metadata": {
        "colab": {
          "base_uri": "https://localhost:8080/"
        },
        "id": "tqaaSBtnD46-",
        "outputId": "9a887cd1-910d-4916-dcf8-170d2f4b09dd"
      },
      "execution_count": null,
      "outputs": [
        {
          "output_type": "execute_result",
          "data": {
            "text/plain": [
              "tensor([3., 6., 9.])"
            ]
          },
          "metadata": {},
          "execution_count": 19
        }
      ]
    },
    {
      "cell_type": "code",
      "source": [
        "float_32_tensor.dtype"
      ],
      "metadata": {
        "colab": {
          "base_uri": "https://localhost:8080/"
        },
        "id": "oNuA3qX9FPfp",
        "outputId": "b5e9036c-6a26-4f65-93fd-a25201697839"
      },
      "execution_count": null,
      "outputs": [
        {
          "output_type": "execute_result",
          "data": {
            "text/plain": [
              "torch.float32"
            ]
          },
          "metadata": {},
          "execution_count": 20
        }
      ]
    },
    {
      "cell_type": "code",
      "source": [
        "float_16_tensor= float_32_tensor.type(torch.float16)\n",
        "float_16_tensor"
      ],
      "metadata": {
        "colab": {
          "base_uri": "https://localhost:8080/"
        },
        "id": "rib_iE_2FPpn",
        "outputId": "872ff5ec-6720-4b7c-fa18-ee8d630108f2"
      },
      "execution_count": null,
      "outputs": [
        {
          "output_type": "execute_result",
          "data": {
            "text/plain": [
              "tensor([3., 6., 9.], dtype=torch.float16)"
            ]
          },
          "metadata": {},
          "execution_count": 21
        }
      ]
    },
    {
      "cell_type": "code",
      "source": [
        "float_32_tensor*float_16_tensor"
      ],
      "metadata": {
        "colab": {
          "base_uri": "https://localhost:8080/"
        },
        "id": "ZwMG8WsjFPuj",
        "outputId": "54aef3c4-aec6-410a-8d8b-442ada6648f1"
      },
      "execution_count": null,
      "outputs": [
        {
          "output_type": "execute_result",
          "data": {
            "text/plain": [
              "tensor([ 9., 36., 81.])"
            ]
          },
          "metadata": {},
          "execution_count": 22
        }
      ]
    },
    {
      "cell_type": "markdown",
      "source": [
        "###Manipulating Tensors (Tensor Operations)\n",
        "Tensor Operations include:\n",
        "*Addition\n",
        "*Subtraction\n",
        "*Multiplication\n",
        "*Division\n",
        "*Matrix Multiplication"
      ],
      "metadata": {
        "id": "H6k8f_UoekAW"
      }
    },
    {
      "cell_type": "code",
      "source": [
        "#Create a tensor\n",
        "tensor=torch.tensor([1,2,3])\n",
        "tensor+10"
      ],
      "metadata": {
        "colab": {
          "base_uri": "https://localhost:8080/"
        },
        "id": "yiL10tJte4Et",
        "outputId": "1f6405f9-044c-4617-d85a-9e237594fab6"
      },
      "execution_count": null,
      "outputs": [
        {
          "output_type": "execute_result",
          "data": {
            "text/plain": [
              "tensor([11, 12, 13])"
            ]
          },
          "metadata": {},
          "execution_count": 23
        }
      ]
    },
    {
      "cell_type": "code",
      "source": [
        "#Multiply\n",
        "tensor*10"
      ],
      "metadata": {
        "colab": {
          "base_uri": "https://localhost:8080/"
        },
        "id": "crGTURchFPyO",
        "outputId": "52f5ca6a-34a4-40d4-c533-339d84be7cc3"
      },
      "execution_count": null,
      "outputs": [
        {
          "output_type": "execute_result",
          "data": {
            "text/plain": [
              "tensor([10, 20, 30])"
            ]
          },
          "metadata": {},
          "execution_count": 24
        }
      ]
    },
    {
      "cell_type": "code",
      "source": [
        "#Subtract\n",
        "tensor-10"
      ],
      "metadata": {
        "colab": {
          "base_uri": "https://localhost:8080/"
        },
        "id": "A7muprADFP4l",
        "outputId": "88b7e301-4b53-4379-8d45-d2fae5fa7556"
      },
      "execution_count": null,
      "outputs": [
        {
          "output_type": "execute_result",
          "data": {
            "text/plain": [
              "tensor([-9, -8, -7])"
            ]
          },
          "metadata": {},
          "execution_count": 25
        }
      ]
    },
    {
      "cell_type": "code",
      "source": [
        "#Try out pytorch inbuilt fucntion\n",
        "torch.mul(tensor, 10)"
      ],
      "metadata": {
        "colab": {
          "base_uri": "https://localhost:8080/"
        },
        "id": "jVjLT11HFQHL",
        "outputId": "fdcd9811-8254-4a12-98ff-f5410affba3e"
      },
      "execution_count": null,
      "outputs": [
        {
          "output_type": "execute_result",
          "data": {
            "text/plain": [
              "tensor([10, 20, 30])"
            ]
          },
          "metadata": {},
          "execution_count": 26
        }
      ]
    },
    {
      "cell_type": "markdown",
      "source": [
        "###Matrix Multiplication\n",
        "\n",
        "Two ways of performing multiplication in neural networks and deep learning:\n",
        "1. Element-wise multiplication\n",
        "2. Matrix multiplication (dot product)\n"
      ],
      "metadata": {
        "id": "vpvSLkTVfwqG"
      }
    },
    {
      "cell_type": "code",
      "source": [
        "%%time\n",
        "val=0\n",
        "for i in range(len(tensor)):\n",
        "  val+=tensor[i]*tensor[i]\n",
        "print(val)"
      ],
      "metadata": {
        "colab": {
          "base_uri": "https://localhost:8080/"
        },
        "id": "6oQlvV85fw5c",
        "outputId": "3330d34c-7786-4c2c-d6a5-1d9aba1cf4a3"
      },
      "execution_count": null,
      "outputs": [
        {
          "output_type": "stream",
          "name": "stdout",
          "text": [
            "tensor(14)\n",
            "CPU times: user 1.22 ms, sys: 39 µs, total: 1.26 ms\n",
            "Wall time: 9.24 ms\n"
          ]
        }
      ]
    },
    {
      "cell_type": "code",
      "source": [
        "%%time\n",
        "torch.matmul(tensor, tensor)"
      ],
      "metadata": {
        "colab": {
          "base_uri": "https://localhost:8080/"
        },
        "id": "_Q5drBrGfw_h",
        "outputId": "94bd2227-5afc-42e1-8a13-21571465a34b"
      },
      "execution_count": null,
      "outputs": [
        {
          "output_type": "stream",
          "name": "stdout",
          "text": [
            "CPU times: user 485 µs, sys: 0 ns, total: 485 µs\n",
            "Wall time: 14.3 ms\n"
          ]
        },
        {
          "output_type": "execute_result",
          "data": {
            "text/plain": [
              "tensor(14)"
            ]
          },
          "metadata": {},
          "execution_count": 28
        }
      ]
    },
    {
      "cell_type": "markdown",
      "source": [
        "##Rules of Matrix Multiplication:\n",
        "1. The **inner dimensions** must match\n",
        "2. The resulting matrix has the shape of the **outer dimensions**"
      ],
      "metadata": {
        "id": "XQOTc4hnfxFQ"
      }
    },
    {
      "cell_type": "code",
      "source": [
        "torch.matmul(torch.rand(2,3), torch.rand(3,2))"
      ],
      "metadata": {
        "colab": {
          "base_uri": "https://localhost:8080/"
        },
        "id": "rWoq9LjvfxKr",
        "outputId": "32d889a9-585e-4f2b-85c1-66ef41efc6ee"
      },
      "execution_count": null,
      "outputs": [
        {
          "output_type": "execute_result",
          "data": {
            "text/plain": [
              "tensor([[0.4422, 0.3242],\n",
              "        [0.6734, 0.3320]])"
            ]
          },
          "metadata": {},
          "execution_count": 29
        }
      ]
    },
    {
      "cell_type": "markdown",
      "source": [
        "###One of the most common errors in deep learning: Shape Errors"
      ],
      "metadata": {
        "id": "oIGoebb3fxP1"
      }
    },
    {
      "cell_type": "code",
      "source": [
        "tensor_A=torch.tensor([[1,2],\n",
        "                       [3,4],\n",
        "                       [5,6]])\n",
        "\n",
        "tensor_B=torch.tensor([[7,10],\n",
        "                       [8,11],\n",
        "                       [9,12]])\n",
        "\n",
        "#torch.mm(tA,tB) is an alias for torch.matmul\n",
        "\n",
        "torch.matmul(tensor_A,tensor_B)"
      ],
      "metadata": {
        "colab": {
          "base_uri": "https://localhost:8080/",
          "height": 176
        },
        "id": "xghhjRyTfxU_",
        "outputId": "771fb2c9-ab47-46df-c233-6e3df40aec7a"
      },
      "execution_count": null,
      "outputs": [
        {
          "output_type": "error",
          "ename": "RuntimeError",
          "evalue": "mat1 and mat2 shapes cannot be multiplied (3x2 and 3x2)",
          "traceback": [
            "\u001b[0;31m---------------------------------------------------------------------------\u001b[0m",
            "\u001b[0;31mRuntimeError\u001b[0m                              Traceback (most recent call last)",
            "\u001b[0;32m<ipython-input-30-62bc04c76b30>\u001b[0m in \u001b[0;36m<cell line: 11>\u001b[0;34m()\u001b[0m\n\u001b[1;32m      9\u001b[0m \u001b[0;31m#torch.mm(tA,tB) is an alias for torch.matmul\u001b[0m\u001b[0;34m\u001b[0m\u001b[0;34m\u001b[0m\u001b[0m\n\u001b[1;32m     10\u001b[0m \u001b[0;34m\u001b[0m\u001b[0m\n\u001b[0;32m---> 11\u001b[0;31m \u001b[0mtorch\u001b[0m\u001b[0;34m.\u001b[0m\u001b[0mmatmul\u001b[0m\u001b[0;34m(\u001b[0m\u001b[0mtensor_A\u001b[0m\u001b[0;34m,\u001b[0m\u001b[0mtensor_B\u001b[0m\u001b[0;34m)\u001b[0m\u001b[0;34m\u001b[0m\u001b[0;34m\u001b[0m\u001b[0m\n\u001b[0m",
            "\u001b[0;31mRuntimeError\u001b[0m: mat1 and mat2 shapes cannot be multiplied (3x2 and 3x2)"
          ]
        }
      ]
    },
    {
      "cell_type": "code",
      "source": [
        "tensor_A.shape, tensor_B.shape"
      ],
      "metadata": {
        "id": "fnO3cWhelTV-"
      },
      "execution_count": null,
      "outputs": []
    },
    {
      "cell_type": "markdown",
      "source": [
        "#To fix our tensor shape issue, we can manipulate the shape of one of our tensors using a **Transpose**\n",
        "\n",
        "#A transpose switches the axes or dimensions of a given tensor"
      ],
      "metadata": {
        "id": "llb7Vx5_lTgl"
      }
    },
    {
      "cell_type": "code",
      "source": [
        "tensor_B.T, tensor_B.T.shape"
      ],
      "metadata": {
        "id": "_Bykqw1QlTmJ"
      },
      "execution_count": null,
      "outputs": []
    },
    {
      "cell_type": "code",
      "source": [
        "torch.matmul(tensor_A,tensor_B.T)"
      ],
      "metadata": {
        "id": "k_Gj3fj0lTqw"
      },
      "execution_count": null,
      "outputs": []
    },
    {
      "cell_type": "markdown",
      "source": [
        "##Finding the min, max, sum, etc. (Tensor aggregation)\n"
      ],
      "metadata": {
        "id": "7Zvd3Xy2lUrx"
      }
    },
    {
      "cell_type": "code",
      "source": [
        "x=torch.arange(0,100,10)\n",
        "x"
      ],
      "metadata": {
        "id": "9Z94X5DxlU1c"
      },
      "execution_count": null,
      "outputs": []
    },
    {
      "cell_type": "code",
      "source": [
        "torch.min(x), x.min()"
      ],
      "metadata": {
        "id": "rnpvTX5XlVBN"
      },
      "execution_count": null,
      "outputs": []
    },
    {
      "cell_type": "code",
      "source": [
        "torch.max(x),x.max()"
      ],
      "metadata": {
        "id": "rElVwRpglVIV"
      },
      "execution_count": null,
      "outputs": []
    },
    {
      "cell_type": "code",
      "source": [
        "torch.mean(x.type(torch.float32)), x.type(torch.float32).mean()"
      ],
      "metadata": {
        "id": "Ujf_n3CPlVPK"
      },
      "execution_count": null,
      "outputs": []
    },
    {
      "cell_type": "code",
      "source": [
        "torch.sum(x)"
      ],
      "metadata": {
        "id": "0eMaipc8lVV4"
      },
      "execution_count": null,
      "outputs": []
    },
    {
      "cell_type": "markdown",
      "source": [
        "###Finding postional min & postional max of tensors"
      ],
      "metadata": {
        "id": "6ZSgJB1flVcz"
      }
    },
    {
      "cell_type": "code",
      "source": [
        "#find the position in a tensor that has the minimum value with argmin()\n",
        "x.argmin(), x.argmax()"
      ],
      "metadata": {
        "id": "3KDcR_1fpWZU"
      },
      "execution_count": null,
      "outputs": []
    },
    {
      "cell_type": "code",
      "source": [
        "x=torch.arange(0,100,10)\n",
        "x"
      ],
      "metadata": {
        "id": "YxMvKWBbpW5B"
      },
      "execution_count": null,
      "outputs": []
    },
    {
      "cell_type": "markdown",
      "source": [
        "#Reshaping, stacking, squeezing and unsqueezing tensors\n",
        "\n",
        "* Reshaping- reshapes an input tensor to a defined shape\n",
        "\n",
        "* View- Return a view of an input tensor of certain shape but keep the same memory as the original tensor\n",
        "\n",
        "* Stacking- Concatenates a sequence of tensors along a new dimension (dim), all tensors must be same size.\n",
        "\n",
        "* Squeeze- removes all '1' dimensions from a tensor\n",
        "\n",
        "* Unsqueeze- add a '1' dimension to a target tensor\n",
        "\n",
        "* Permute- Return a view of the input with dimensions permuted (swapped) in a certain way\n"
      ],
      "metadata": {
        "id": "fzM8eNbNJNat"
      }
    },
    {
      "cell_type": "code",
      "source": [
        "import torch\n",
        "x=torch.arange(2.,10.)\n",
        "x, x.shape"
      ],
      "metadata": {
        "id": "b7xXmcwOJNk6"
      },
      "execution_count": null,
      "outputs": []
    },
    {
      "cell_type": "code",
      "source": [
        "# Add an extra dimension\n",
        "x_reshaped=x.reshape(8,1)\n",
        "x_reshaped, x_reshaped.shape"
      ],
      "metadata": {
        "id": "YacwT201JNzc"
      },
      "execution_count": null,
      "outputs": []
    },
    {
      "cell_type": "code",
      "source": [
        "#View\n",
        "z=x.view(1,8)\n",
        "z, z.shape"
      ],
      "metadata": {
        "id": "DwF5ZznkpXHH"
      },
      "execution_count": null,
      "outputs": []
    },
    {
      "cell_type": "code",
      "source": [
        "# Stack tensors on top of each other\n",
        "x_stack=torch.stack([x,x,x,x], dim=0)\n",
        "x_stack"
      ],
      "metadata": {
        "id": "l-ct8knhMZYO"
      },
      "execution_count": null,
      "outputs": []
    },
    {
      "cell_type": "code",
      "source": [
        "# torch.squeeze() - removes all single dimensions from a target tensors\n",
        "x=torch.zeros(2,1,2,1,2)\n",
        "x.size()"
      ],
      "metadata": {
        "id": "ei_ACdqIMZi1"
      },
      "execution_count": null,
      "outputs": []
    },
    {
      "cell_type": "code",
      "source": [
        "y=torch.squeeze(x)\n",
        "y.size()"
      ],
      "metadata": {
        "id": "SrR26G1AMZuP"
      },
      "execution_count": null,
      "outputs": []
    },
    {
      "cell_type": "code",
      "source": [
        "y=torch.squeeze(x,0)\n",
        "y.size()"
      ],
      "metadata": {
        "id": "AxNaq-zpMZ34"
      },
      "execution_count": null,
      "outputs": []
    },
    {
      "cell_type": "code",
      "source": [
        "y=torch.squeeze(x,1)\n",
        "y.size()"
      ],
      "metadata": {
        "id": "h3uYbirIMZ_d"
      },
      "execution_count": null,
      "outputs": []
    },
    {
      "cell_type": "markdown",
      "source": [
        "####torch.permute- rearranges dimensions of a target tensor in a specified order"
      ],
      "metadata": {
        "id": "pSOLq5qlMaHb"
      }
    },
    {
      "cell_type": "code",
      "source": [
        "x_original=torch.rand(size=(224,224,3))\n",
        "\n",
        "#permute the orginal tensor to rearrange the axis (or dim) order\n",
        "x_permuted=x_original.permute(2,0,1)\n",
        "x_permuted.size()"
      ],
      "metadata": {
        "id": "Uhg7fOeGMaS4"
      },
      "execution_count": null,
      "outputs": []
    },
    {
      "cell_type": "code",
      "source": [
        "x_original[0,0,0]=0.1234\n",
        "x_original[0,0,0]=x_permuted[0,0,0]\n",
        "x_permuted[0,0,0]"
      ],
      "metadata": {
        "id": "ODcqf14PMaaX"
      },
      "execution_count": null,
      "outputs": []
    },
    {
      "cell_type": "markdown",
      "source": [
        "## Indexing (selecting data from tensors)\n",
        "\n",
        "Indexing with PyTorch is similar to indexing with NumPy"
      ],
      "metadata": {
        "id": "HcUMdmiOMag1"
      }
    },
    {
      "cell_type": "code",
      "source": [
        "#Create a tensor\n",
        "import torch\n",
        "x=torch.arange(1,10).reshape(1,3,3)\n",
        "x, x.shape"
      ],
      "metadata": {
        "id": "Q6v5PH0HRnOa"
      },
      "execution_count": null,
      "outputs": []
    },
    {
      "cell_type": "code",
      "source": [
        "#lets index on our new tensor\n",
        "x[0]"
      ],
      "metadata": {
        "id": "JeJ3JynORnTZ"
      },
      "execution_count": null,
      "outputs": []
    },
    {
      "cell_type": "code",
      "source": [
        "x[0][0]"
      ],
      "metadata": {
        "id": "TVxxuo_zRnWs"
      },
      "execution_count": null,
      "outputs": []
    },
    {
      "cell_type": "code",
      "source": [
        "x[0][0][0]"
      ],
      "metadata": {
        "id": "2PfYIJplRna4"
      },
      "execution_count": null,
      "outputs": []
    },
    {
      "cell_type": "code",
      "source": [
        "x[0][1][1]"
      ],
      "metadata": {
        "id": "1Ki9X0DLRnd6"
      },
      "execution_count": null,
      "outputs": []
    },
    {
      "cell_type": "code",
      "source": [
        "x[0][2][2]"
      ],
      "metadata": {
        "id": "VMxgVAkWRnhc"
      },
      "execution_count": null,
      "outputs": []
    },
    {
      "cell_type": "code",
      "source": [
        "#get all values of 0th and 1st dimension but only index 1 of 2nd dimension\n",
        "x[:,:,1]"
      ],
      "metadata": {
        "id": "PmiUwxuARnkg"
      },
      "execution_count": null,
      "outputs": []
    },
    {
      "cell_type": "code",
      "source": [
        "#get all values of the 0th dimension but only has the 1 index value of 1st and 2nd dimension\n",
        "x[:,:,1]"
      ],
      "metadata": {
        "id": "Qs70VNwqRnnK"
      },
      "execution_count": null,
      "outputs": []
    },
    {
      "cell_type": "code",
      "source": [
        "x[:,:,2]"
      ],
      "metadata": {
        "id": "JIHk6s8XRnpr"
      },
      "execution_count": null,
      "outputs": []
    },
    {
      "cell_type": "markdown",
      "source": [
        "##Pytorch tensors & NumPy\n",
        "\n",
        "NumPy is a popular scientific Python numerical computing library.\n",
        "And because of this, PyTorch has functionality to interact with it.\n",
        "\n",
        "* Data in NumPy, want in PyTorch tensor -> torch.from_numpy(ndarray)\n",
        "* PyTorch tensor -> NumPy -> torch.Tensor.numpy()"
      ],
      "metadata": {
        "id": "wWQKNKZLSU8N"
      }
    },
    {
      "cell_type": "code",
      "source": [
        "#NumPy array to tensor\n",
        "import torch\n",
        "import numpy as np\n",
        "\n",
        "array=np.arange(1.0,8.0)\n",
        "tensor=torch.from_numpy(array)\n",
        "array, tensor"
      ],
      "metadata": {
        "id": "It8NA5UvtHmm"
      },
      "execution_count": null,
      "outputs": []
    },
    {
      "cell_type": "code",
      "source": [
        "#Change the value of an array, what will this do to a tensor??\n",
        "array=array+1\n",
        "array,tensor"
      ],
      "metadata": {
        "id": "3Hxub05DtH0h"
      },
      "execution_count": null,
      "outputs": []
    },
    {
      "cell_type": "code",
      "source": [
        "tensor=torch.ones(7)\n",
        "numpy_tensor=tensor.numpy()\n",
        "tensor, numpy_tensor"
      ],
      "metadata": {
        "id": "NhMw1IQMtH7n"
      },
      "execution_count": null,
      "outputs": []
    },
    {
      "cell_type": "code",
      "source": [
        "# Change tensor, what happens to `numpy_tensor`??\n",
        "\n",
        "tensor=tensor+1\n",
        "tensor,numpy_tensor"
      ],
      "metadata": {
        "id": "dr8SybDxSVEA"
      },
      "execution_count": null,
      "outputs": []
    },
    {
      "cell_type": "markdown",
      "source": [
        "## Reproducability (trying to take random out of random)\n",
        "\n",
        "In short how a neural network learns:\n",
        "`start with random numbers-> tensor operation -> update random numbers to try and\n",
        "make them better representations of the data-> again.. -> again.. -> again...`\n",
        "\n",
        "To reduce the randomness in neural networks and PyTorch comes the concept of a **random seed**.\n",
        "\n",
        "Essentially what the random seed does is \"flavour\" the randomness."
      ],
      "metadata": {
        "id": "HBeHR4shSVJf"
      }
    },
    {
      "cell_type": "code",
      "source": [
        "import torch\n",
        "\n",
        "#Create two random tensors\n",
        "random_tensor_A=torch.rand(3,4)\n",
        "random_tensor_B=torch.rand(3,4)\n",
        "\n",
        "print(random_tensor_A)\n",
        "print(random_tensor_B)\n",
        "print(random_tensor_A==random_tensor_B)"
      ],
      "metadata": {
        "id": "gfQQr6uOSVNh"
      },
      "execution_count": null,
      "outputs": []
    },
    {
      "cell_type": "code",
      "source": [
        "# Let's make some random but reproducable tensors\n",
        "import torch\n",
        "\n",
        "# Set the random seed\n",
        "RANDOM_SEED = 42\n",
        "torch.manual_seed(RANDOM_SEED)\n",
        "random_tensor_C=torch.rand(3,4)\n",
        "torch.manual_seed(RANDOM_SEED)\n",
        "random_tensor_D=torch.rand(3,4)\n",
        "print(random_tensor_C)\n",
        "print(random_tensor_D)\n",
        "print(random_tensor_C==random_tensor_D)"
      ],
      "metadata": {
        "id": "7szvAPNgwuuc"
      },
      "execution_count": null,
      "outputs": []
    },
    {
      "cell_type": "markdown",
      "source": [
        "## Running tensors and PyTorch objects on the GPUs (and making faster computations)\n",
        "\n",
        "GPUs= faster computation on numbers, thanks to Cuda + NVIDIA hardware + PyTorch working behind the scenes to make everything good."
      ],
      "metadata": {
        "id": "bacYaiI9wu3T"
      }
    },
    {
      "cell_type": "markdown",
      "source": [
        "### 1. Getting a GPU\n",
        "\n",
        "1. Using Google Colab for a free GPU (options to upgrade as well)\n",
        "2. Use your own GPU\n",
        "3. Use cloud computing- GCP, AWS, Azure, these services allow you to rent computers on the cloud and access them\n"
      ],
      "metadata": {
        "id": "YFBMCUHIwvAS"
      }
    },
    {
      "cell_type": "code",
      "source": [
        "!nvidia-smi"
      ],
      "metadata": {
        "colab": {
          "base_uri": "https://localhost:8080/"
        },
        "id": "thCZNCWhwvIH",
        "outputId": "6dd3c711-5f5c-403c-a68f-1a9c70e77080"
      },
      "execution_count": null,
      "outputs": [
        {
          "output_type": "stream",
          "name": "stdout",
          "text": [
            "Wed Aug 14 16:56:08 2024       \n",
            "+---------------------------------------------------------------------------------------+\n",
            "| NVIDIA-SMI 535.104.05             Driver Version: 535.104.05   CUDA Version: 12.2     |\n",
            "|-----------------------------------------+----------------------+----------------------+\n",
            "| GPU  Name                 Persistence-M | Bus-Id        Disp.A | Volatile Uncorr. ECC |\n",
            "| Fan  Temp   Perf          Pwr:Usage/Cap |         Memory-Usage | GPU-Util  Compute M. |\n",
            "|                                         |                      |               MIG M. |\n",
            "|=========================================+======================+======================|\n",
            "|   0  Tesla T4                       Off | 00000000:00:04.0 Off |                    0 |\n",
            "| N/A   50C    P8              10W /  70W |      0MiB / 15360MiB |      0%      Default |\n",
            "|                                         |                      |                  N/A |\n",
            "+-----------------------------------------+----------------------+----------------------+\n",
            "                                                                                         \n",
            "+---------------------------------------------------------------------------------------+\n",
            "| Processes:                                                                            |\n",
            "|  GPU   GI   CI        PID   Type   Process name                            GPU Memory |\n",
            "|        ID   ID                                                             Usage      |\n",
            "|=======================================================================================|\n",
            "|  No running processes found                                                           |\n",
            "+---------------------------------------------------------------------------------------+\n"
          ]
        }
      ]
    },
    {
      "cell_type": "markdown",
      "source": [
        "###2. Check for GPU access with PyTorch"
      ],
      "metadata": {
        "id": "UDHSdiTcwvUi"
      }
    },
    {
      "cell_type": "code",
      "source": [
        "import torch\n",
        "torch.cuda.is_available()"
      ],
      "metadata": {
        "colab": {
          "base_uri": "https://localhost:8080/"
        },
        "id": "l8-AHKfowvbo",
        "outputId": "bfec734f-8806-4cf1-de6e-ff2b59571af0"
      },
      "execution_count": null,
      "outputs": [
        {
          "output_type": "execute_result",
          "data": {
            "text/plain": [
              "True"
            ]
          },
          "metadata": {},
          "execution_count": 32
        }
      ]
    },
    {
      "cell_type": "code",
      "source": [
        "#setup device agnostic code\n",
        "device=\"cuda\" if torch.cuda.is_available() else \"cpu\"\n",
        "device"
      ],
      "metadata": {
        "colab": {
          "base_uri": "https://localhost:8080/",
          "height": 35
        },
        "id": "FN0sVwHvwvl9",
        "outputId": "382dfa34-8a99-4f33-d994-40bf30ceb450"
      },
      "execution_count": null,
      "outputs": [
        {
          "output_type": "execute_result",
          "data": {
            "text/plain": [
              "'cuda'"
            ],
            "application/vnd.google.colaboratory.intrinsic+json": {
              "type": "string"
            }
          },
          "metadata": {},
          "execution_count": 33
        }
      ]
    },
    {
      "cell_type": "code",
      "source": [
        "#Count the number of devices\n",
        "torch.cuda.device_count()"
      ],
      "metadata": {
        "colab": {
          "base_uri": "https://localhost:8080/"
        },
        "id": "NprjxzFp0lkU",
        "outputId": "b131b249-5540-45b7-92b0-6112cc9f6175"
      },
      "execution_count": null,
      "outputs": [
        {
          "output_type": "execute_result",
          "data": {
            "text/plain": [
              "1"
            ]
          },
          "metadata": {},
          "execution_count": 34
        }
      ]
    }
  ]
}